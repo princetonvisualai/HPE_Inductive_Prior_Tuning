{
 "cells": [
  {
   "cell_type": "markdown",
   "id": "36a09c01-7bea-4f6d-a36b-a0c706961529",
   "metadata": {},
   "source": [
    "# Visualize Template"
   ]
  },
  {
   "cell_type": "code",
   "execution_count": 1,
   "id": "f7dc5677-31ce-4192-bcae-f5ca4ce45a04",
   "metadata": {},
   "outputs": [],
   "source": [
    "# Imports\n",
    "from src.utils.helper import draw_shape\n",
    "from src.utils.helper import load_config\n",
    "\n",
    "import matplotlib.pyplot as plt\n",
    "import torch\n",
    "import numpy as np\n",
    "import random\n",
    "import json_tricks as json"
   ]
  },
  {
   "cell_type": "code",
   "execution_count": null,
   "id": "d81c180d",
   "metadata": {},
   "outputs": [],
   "source": [
    "# Set up\n",
    "device = torch.device('cuda:0')"
   ]
  },
  {
   "cell_type": "code",
   "execution_count": 11,
   "id": "42a3a274-7515-4e62-a922-59bb402bf496",
   "metadata": {},
   "outputs": [],
   "source": [
    "# Functions\n",
    "def showpoints(anchors, markersize = 2):\n",
    "    #colors = ['#fc0cd2', '#54693f', '#ed28fd', '#3bfb0a', '#678916', '#f48f70', '#f447f1', '#3271ed', '#190b45', '#1a243c', '#9271b7', '#c25ec8', '#3c605a', '#e67c03', '#5e6674', '#4a9aa2', '#92910c', '#7b857f']\n",
    "    colors = [\"#%06x\" % random.randint(0, 0xFFFFFF) for j in range(18)]\n",
    "\n",
    "    i = 0\n",
    "    for section in anchors:\n",
    "        if section.shape[3] != 0:\n",
    "            #print(section)\n",
    "            for part in section.squeeze(0):\n",
    "                #print(a)\n",
    "                #print(part)\n",
    "                for joint in part:\n",
    "                    x = float(joint[0,0])\n",
    "                    y = float(joint[1,0])\n",
    "                    plt.plot(x, y, marker=\"o\", color=\"r\", markersize=markersize)\n",
    "                i += 1\n",
    "\n",
    "def draw_template(template, size, batch_size, device):\n",
    "    \"\"\"\n",
    "    draw template consisting of limbs defined by gaussian heatmap\n",
    "    Args:\n",
    "        template: json file defining all parts\n",
    "        size: int, image size (assumed quadratic), this should match the center coordinates defined in the json!\n",
    "        device: torch.device, either cpu or gpu\n",
    "    \"\"\"\n",
    "    heatmaps = []\n",
    "    for v in template.values():\n",
    "        center = torch.tensor(v['center']).to(device)\n",
    "        sx = torch.tensor(v['sx']).to(device)\n",
    "        sy = torch.tensor(v['sy']).to(device)\n",
    "        angle = torch.tensor(v['angle']).to(device)\n",
    "        heatmaps.append(draw_shape(center, sx, sy, angle, size))\n",
    "\n",
    "    heatmaps = torch.cat(heatmaps, dim=1).repeat(batch_size, 1, 1, 1)\n",
    "\n",
    "    return heatmaps\n",
    "\n",
    "def load_anchor_points(anchor_points, device, batch_size):\n",
    "    \"\"\"\n",
    "    load anchor points from json file\n",
    "    change this according to your definitions\n",
    "    Args:\n",
    "        anchor_points: json file containing anchor points per part in column, row format similar to open-cv\n",
    "        device: torch.device, either cpu or gpu\n",
    "    \"\"\"\n",
    "    \n",
    "    # assumes three anchor points for core, two (parent+child) for all others except hands and feet and head\n",
    "    # change this accordingly for different template definitions!\n",
    "    double = []\n",
    "    single = []\n",
    "    #print(\"helper.py anchor_points items: \", anchor_points.items())\n",
    "    for k, v in anchor_points.items():\n",
    "        if k in ['left hand', 'right hand', 'left foot', 'right foot', 'head']:\n",
    "            single.append(v)\n",
    "        elif k == 'core':\n",
    "            triple = [v]\n",
    "        else:\n",
    "            double.append(v)\n",
    "\n",
    "    return torch.tensor(triple).to(device).float().unsqueeze(-1).unsqueeze(0).repeat(batch_size, 1, 1, 1, 1), \\\n",
    "           torch.tensor(single).to(device).float().unsqueeze(-1).unsqueeze(0).repeat(batch_size, 1, 1, 1, 1), \\\n",
    "           torch.tensor(double).to(device).float().unsqueeze(-1).unsqueeze(0).repeat(batch_size, 1, 1, 1, 1)"
   ]
  },
  {
   "cell_type": "code",
   "execution_count": 363,
   "id": "94c2c7b6-d33a-4270-abf4-8619d5414668",
   "metadata": {},
   "outputs": [
    {
     "data": {
      "image/png": "[encoded data removed]",
      "text/plain": [
       "<Figure size 432x288 with 1 Axes>"
      ]
     },
     "metadata": {
      "needs_background": "light"
     },
     "output_type": "display_data"
    }
   ],
   "source": [
    "template_path = 'template.json'\n",
    "anchor_points_path = 'anchor_points.json'\n",
    "img_size = 256\n",
    "\n",
    "# Open template\n",
    "with open(template_path, 'r') as file:\n",
    "    template_json = json.load(file)\n",
    "    \n",
    "with open(anchor_points_path, 'r') as file:\n",
    "    anchor_points_json = json.load(file)\n",
    "\n",
    "# Process jsons\n",
    "template = draw_template(template_json, size=img_size, batch_size=1,\n",
    "                                      device=device)\n",
    "core, single, double = load_anchor_points(anchor_points_json, device, 1)\n",
    "template_nums = template.squeeze(0).cpu().detach().numpy()\n",
    "templates_sum = np.sum(template_nums, 0)\n",
    "\n",
    "# Show heatmap\n",
    "plt.imshow(templates_sum)\n",
    "showpoints([core, double, single])\n",
    "plt.show()"
   ]
  }
 ],
 "metadata": {
  "kernelspec": {
   "display_name": "Python 3.8.9 64-bit",
   "language": "python",
   "name": "python3"
  },
  "language_info": {
   "codemirror_mode": {
    "name": "ipython",
    "version": 3
   },
   "file_extension": ".py",
   "mimetype": "text/x-python",
   "name": "python",
   "nbconvert_exporter": "python",
   "pygments_lexer": "ipython3",
   "version": "3.8.9"
  },
  "vscode": {
   "interpreter": {
    "hash": "31f2aee4e71d21fbe5cf8b01ff0e069b9275f58929596ceb00d14d90e3e16cd6"
   }
  }
 },
 "nbformat": 4,
 "nbformat_minor": 5
}
