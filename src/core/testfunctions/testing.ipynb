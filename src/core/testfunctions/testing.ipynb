{
 "cells": [
  {
   "cell_type": "markdown",
   "id": "8ce5d4b8-74fe-45d9-86c9-6159d93e62e3",
   "metadata": {
    "tags": []
   },
   "source": [
    "## Test part order"
   ]
  },
  {
   "cell_type": "code",
   "execution_count": 7,
   "id": "16fd53b6-547a-412f-8ade-4b3313f5b8c1",
   "metadata": {},
   "outputs": [
    {
     "name": "stdout",
     "output_type": "stream",
     "text": [
      "helper.py Template values:  odict_keys(['core', 'left hip', 'right hip', 'left thigh', 'right thigh', 'left shin', 'right shin', 'left shoulder', 'right shoulder', 'left arm', 'right arm', 'left forearm', 'right forearm', 'left foot', 'right foot', 'left hand', 'right hand', 'head'])\n"
     ]
    }
   ],
   "source": [
    "from utils.helper import draw_template, load_anchor_points\n",
    "from utils.helper import load_config\n",
    "import torch\n",
    "cfg = load_config(\"../../configs/default.yaml\")\n",
    "device = torch.device('cuda:0')\n",
    "template = draw_template(\"../../template.json\", size=cfg['img_size'], batch_size=cfg['batch_size'],\n",
    "                                      device=device)"
   ]
  },
  {
   "cell_type": "code",
   "execution_count": 17,
   "id": "c5cfba11-a518-4df8-b37f-8aa3b9fcd142",
   "metadata": {},
   "outputs": [
    {
     "data": {
      "text/plain": [
       "torch.Tensor"
      ]
     },
     "execution_count": 17,
     "metadata": {},
     "output_type": "execute_result"
    }
   ],
   "source": [
    "type(template)"
   ]
  },
  {
   "cell_type": "code",
   "execution_count": 1,
   "id": "0afa7776-3281-4beb-bdee-5d3e2b150394",
   "metadata": {},
   "outputs": [
    {
     "ename": "NameError",
     "evalue": "name 'template' is not defined",
     "output_type": "error",
     "traceback": [
      "\u001b[0;31m---------------------------------------------------------------------------\u001b[0m",
      "\u001b[0;31mNameError\u001b[0m                                 Traceback (most recent call last)",
      "\u001b[0;32m/tmp/ipykernel_2186094/3080046841.py\u001b[0m in \u001b[0;36m<module>\u001b[0;34m\u001b[0m\n\u001b[1;32m      1\u001b[0m \u001b[0;32mimport\u001b[0m \u001b[0mmatplotlib\u001b[0m\u001b[0;34m.\u001b[0m\u001b[0mpyplot\u001b[0m \u001b[0;32mas\u001b[0m \u001b[0mplt\u001b[0m\u001b[0;34m\u001b[0m\u001b[0;34m\u001b[0m\u001b[0m\n\u001b[1;32m      2\u001b[0m \u001b[0;34m\u001b[0m\u001b[0m\n\u001b[0;32m----> 3\u001b[0;31m \u001b[0;32mfor\u001b[0m \u001b[0mi\u001b[0m \u001b[0;32min\u001b[0m \u001b[0mtemplate\u001b[0m\u001b[0;34m[\u001b[0m\u001b[0;36m0\u001b[0m\u001b[0;34m]\u001b[0m\u001b[0;34m:\u001b[0m\u001b[0;34m\u001b[0m\u001b[0;34m\u001b[0m\u001b[0m\n\u001b[0m\u001b[1;32m      4\u001b[0m     \u001b[0;31m#print(i.shape)\u001b[0m\u001b[0;34m\u001b[0m\u001b[0;34m\u001b[0m\u001b[0;34m\u001b[0m\u001b[0m\n\u001b[1;32m      5\u001b[0m     \u001b[0mi_cpu\u001b[0m \u001b[0;34m=\u001b[0m \u001b[0mi\u001b[0m\u001b[0;34m.\u001b[0m\u001b[0mcpu\u001b[0m\u001b[0;34m(\u001b[0m\u001b[0;34m)\u001b[0m\u001b[0;34m\u001b[0m\u001b[0;34m\u001b[0m\u001b[0m\n",
      "\u001b[0;31mNameError\u001b[0m: name 'template' is not defined"
     ]
    }
   ],
   "source": [
    "import matplotlib.pyplot as plt\n",
    "\n",
    "for i in template[0]:\n",
    "    #print(i.shape)\n",
    "    i_cpu = i.cpu()\n",
    "    i_cpu_numpy = i_cpu.detach().numpy()\n",
    "    #plt.imshow(i_cpu_numpy)\n",
    "    #plt.show()\n"
   ]
  },
  {
   "cell_type": "code",
   "execution_count": 1,
   "id": "fcee6c67-a776-454d-8da2-6cbf7775f073",
   "metadata": {},
   "outputs": [],
   "source": [
    "import json_tricks as json\n",
    "with open(\"../../anchor_points.json\", 'r') as file:\n",
    "        anchor_points = json.load(file)\n",
    "with open(\"../../template.json\", 'r') as file:\n",
    "        template = json.load(file)"
   ]
  },
  {
   "cell_type": "code",
   "execution_count": 2,
   "id": "8da65374-9f74-4a16-95d2-4e1cacd03037",
   "metadata": {},
   "outputs": [
    {
     "name": "stdout",
     "output_type": "stream",
     "text": [
      "core\n",
      "left hip\n",
      "right hip\n",
      "left thigh\n",
      "right thigh\n",
      "left shin\n",
      "right shin\n",
      "left shoulder\n",
      "right shoulder\n",
      "left arm\n",
      "right arm\n",
      "left forearm\n",
      "right forearm\n",
      "left foot\n",
      "right foot\n",
      "left hand\n",
      "right hand\n",
      "head\n"
     ]
    }
   ],
   "source": [
    "for i in template.keys():\n",
    "    print(i)"
   ]
  },
  {
   "cell_type": "code",
   "execution_count": 3,
   "id": "cb6195cd-171c-416d-9c3c-9a1d0b28cc0e",
   "metadata": {},
   "outputs": [
    {
     "name": "stdout",
     "output_type": "stream",
     "text": [
      "core\n",
      "left hip\n",
      "right hip\n",
      "left thigh\n",
      "right thigh\n",
      "left shin\n",
      "right shin\n",
      "left shoulder\n",
      "right shoulder\n",
      "left arm\n",
      "right arm\n",
      "left forearm\n",
      "right forearm\n",
      "left foot\n",
      "right foot\n",
      "left hand\n",
      "right hand\n",
      "head\n"
     ]
    }
   ],
   "source": [
    "for k,v in anchor_points.items():\n",
    "    print(k)"
   ]
  },
  {
   "cell_type": "code",
   "execution_count": 1,
   "id": "b77eb04a-0562-4d00-944b-fcf8be9ab777",
   "metadata": {},
   "outputs": [
    {
     "name": "stderr",
     "output_type": "stream",
     "text": [
      "/scratch/network/nobliney/project/src/core/utils/helper.py:10: YAMLLoadWarning: calling yaml.load() without Loader=... is deprecated, as the default Loader is unsafe. Please read https://msg.pyyaml.org/load for full details.\n",
      "  cfg = yaml.load(file)\n"
     ]
    }
   ],
   "source": [
    "from utils.helper import load_config\n",
    "cfg = load_config(\"../../configs/default.yaml\")"
   ]
  },
  {
   "cell_type": "markdown",
   "id": "b7063841-5a2a-4fc7-920e-ab6f1fcca045",
   "metadata": {
    "tags": []
   },
   "source": [
    "## Playing with DataLoader"
   ]
  },
  {
   "cell_type": "code",
   "execution_count": 2,
   "id": "91bcad62-70d7-4cf1-94ad-3b3595df0582",
   "metadata": {},
   "outputs": [
    {
     "ename": "FileNotFoundError",
     "evalue": "[Errno 2] No such file or directory: 'data/preprocessed/training/S1/'",
     "output_type": "error",
     "traceback": [
      "\u001b[0;31m---------------------------------------------------------------------------\u001b[0m",
      "\u001b[0;31mFileNotFoundError\u001b[0m                         Traceback (most recent call last)",
      "\u001b[0;32m/tmp/ipykernel_2150108/4065480880.py\u001b[0m in \u001b[0;36m<module>\u001b[0;34m\u001b[0m\n\u001b[1;32m      6\u001b[0m                                  std=[0.229, 0.224, 0.225])\n\u001b[1;32m      7\u001b[0m \u001b[0;34m\u001b[0m\u001b[0m\n\u001b[0;32m----> 8\u001b[0;31m \u001b[0mdataset\u001b[0m \u001b[0;34m=\u001b[0m \u001b[0mImageDataset\u001b[0m\u001b[0;34m(\u001b[0m\u001b[0mtransform\u001b[0m\u001b[0;34m=\u001b[0m\u001b[0mnormalize\u001b[0m\u001b[0;34m)\u001b[0m\u001b[0;34m\u001b[0m\u001b[0;34m\u001b[0m\u001b[0m\n\u001b[0m\u001b[1;32m      9\u001b[0m \u001b[0;34m\u001b[0m\u001b[0m\n\u001b[1;32m     10\u001b[0m dataloader = DataLoader(dataset=dataset, batch_size=cfg['batch_size'], shuffle=True, num_workers=cfg['num_workers'],\n",
      "\u001b[0;32m/scratch/network/nobliney/project/src/core/utils/dataset_evensmaller.py\u001b[0m in \u001b[0;36m__init__\u001b[0;34m(self, transform)\u001b[0m\n\u001b[1;32m     16\u001b[0m         \u001b[0;32mfor\u001b[0m \u001b[0msubject\u001b[0m \u001b[0;32min\u001b[0m \u001b[0msubjects\u001b[0m\u001b[0;34m:\u001b[0m\u001b[0;34m\u001b[0m\u001b[0;34m\u001b[0m\u001b[0m\n\u001b[1;32m     17\u001b[0m             \u001b[0msubject_prefix\u001b[0m \u001b[0;34m=\u001b[0m \u001b[0;34m\"data/preprocessed/training/\"\u001b[0m \u001b[0;34m+\u001b[0m \u001b[0msubject\u001b[0m \u001b[0;34m+\u001b[0m \u001b[0;34m\"/\"\u001b[0m\u001b[0;34m\u001b[0m\u001b[0;34m\u001b[0m\u001b[0m\n\u001b[0;32m---> 18\u001b[0;31m             \u001b[0mfolders\u001b[0m \u001b[0;34m=\u001b[0m \u001b[0mos\u001b[0m\u001b[0;34m.\u001b[0m\u001b[0mlistdir\u001b[0m\u001b[0;34m(\u001b[0m\u001b[0msubject_prefix\u001b[0m\u001b[0;34m)\u001b[0m\u001b[0;34m\u001b[0m\u001b[0;34m\u001b[0m\u001b[0m\n\u001b[0m\u001b[1;32m     19\u001b[0m             \u001b[0;32mfor\u001b[0m \u001b[0mfolder\u001b[0m \u001b[0;32min\u001b[0m \u001b[0mfolders\u001b[0m\u001b[0;34m:\u001b[0m\u001b[0;34m\u001b[0m\u001b[0;34m\u001b[0m\u001b[0m\n\u001b[1;32m     20\u001b[0m                 \u001b[0mbbox_prefix\u001b[0m \u001b[0;34m=\u001b[0m \u001b[0msubject_prefix\u001b[0m \u001b[0;34m+\u001b[0m \u001b[0mfolder\u001b[0m\u001b[0;34m\u001b[0m\u001b[0;34m\u001b[0m\u001b[0m\n",
      "\u001b[0;31mFileNotFoundError\u001b[0m: [Errno 2] No such file or directory: 'data/preprocessed/training/S1/'"
     ]
    }
   ],
   "source": [
    "from utils.dataset_evensmaller import ImageDataset\n",
    "import torchvision.transforms as transforms\n",
    "from torch.utils.data import DataLoader\n",
    "\n",
    "normalize = transforms.Normalize(mean=[0.485, 0.456, 0.406],\n",
    "                                 std=[0.229, 0.224, 0.225])\n",
    "\n",
    "dataset = ImageDataset(transform=normalize)\n",
    "\n",
    "dataloader = DataLoader(dataset=dataset, batch_size=cfg['batch_size'], shuffle=True, num_workers=cfg['num_workers'],\n",
    "                        drop_last=True)"
   ]
  },
  {
   "cell_type": "code",
   "execution_count": 6,
   "id": "5ff1ed20-ea61-44b1-8dc8-50c83379ef20",
   "metadata": {},
   "outputs": [
    {
     "name": "stderr",
     "output_type": "stream",
     "text": [
      "ERROR:root:Internal Python error in the inspect module.\n",
      "Below is the traceback from this internal error.\n",
      "\n",
      "\n",
      "KeyboardInterrupt\n",
      "\n"
     ]
    }
   ],
   "source": [
    "for batch in dataloader:\n",
    "    frame1, frame2 = batch\n",
    "    show_tensor(invTrans(frame1[0]))\n",
    "    show_tensor(invTrans(frame2[0]))\n",
    "    input()"
   ]
  }
 ],
 "metadata": {
  "kernelspec": {
   "display_name": "poseestimation [~/.conda/envs/poseestimation/]",
   "language": "python",
   "name": "conda_poseestimation"
  },
  "language_info": {
   "codemirror_mode": {
    "name": "ipython",
    "version": 3
   },
   "file_extension": ".py",
   "mimetype": "text/x-python",
   "name": "python",
   "nbconvert_exporter": "python",
   "pygments_lexer": "ipython3",
   "version": "3.7.16"
  }
 },
 "nbformat": 4,
 "nbformat_minor": 5
}
