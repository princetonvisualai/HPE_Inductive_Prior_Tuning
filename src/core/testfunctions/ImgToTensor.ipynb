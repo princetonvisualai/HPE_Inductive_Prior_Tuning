{
 "cells": [
  {
   "cell_type": "code",
   "execution_count": 1,
   "id": "a0ea6186-a3a8-4c64-a294-e6def6b124b8",
   "metadata": {},
   "outputs": [
    {
     "name": "stderr",
     "output_type": "stream",
     "text": [
      "/n/fs/ny-project/anaconda3/envs/shape-templates/lib/python3.8/site-packages/torchvision/transforms/functional.py:169: UserWarning: The given NumPy array is not writeable, and PyTorch does not support non-writeable tensors. This means you can write to the underlying (supposedly non-writeable) NumPy array using the tensor. You may want to copy the array to protect its data or make it writeable before converting it to a tensor. This type of warning will be suppressed for the rest of this program. (Triggered internally at  /pytorch/torch/csrc/utils/tensor_numpy.cpp:143.)\n",
      "  img = torch.as_tensor(np.asarray(pic))\n"
     ]
    },
    {
     "name": "stdout",
     "output_type": "stream",
     "text": [
      "tensor([[[ 48,  48,  48,  ..., 140, 148, 153],\n",
      "         [ 46,  45,  45,  ..., 136, 139, 140],\n",
      "         [ 44,  43,  44,  ..., 131, 124, 118],\n",
      "         ...,\n",
      "         [ 56,  56,  56,  ...,  67,  67,  67],\n",
      "         [ 56,  56,  56,  ...,  67,  67,  67],\n",
      "         [ 56,  56,  56,  ...,  67,  67,  67]],\n",
      "\n",
      "        [[ 33,  33,  33,  ..., 105, 115, 120],\n",
      "         [ 33,  32,  32,  ..., 103, 108, 104],\n",
      "         [ 31,  30,  29,  ..., 100,  95,  87],\n",
      "         ...,\n",
      "         [ 22,  22,  22,  ...,  27,  27,  27],\n",
      "         [ 22,  22,  22,  ...,  27,  27,  27],\n",
      "         [ 22,  22,  22,  ...,  27,  27,  27]],\n",
      "\n",
      "        [[ 28,  28,  28,  ...,  85,  96, 101],\n",
      "         [ 27,  26,  26,  ...,  84,  90,  88],\n",
      "         [ 23,  22,  22,  ...,  82,  77,  69],\n",
      "         ...,\n",
      "         [ 21,  21,  21,  ...,  28,  28,  28],\n",
      "         [ 21,  21,  21,  ...,  28,  28,  28],\n",
      "         [ 21,  21,  21,  ...,  28,  28,  28]]], dtype=torch.uint8)\n"
     ]
    }
   ],
   "source": [
    "# Import necessary libraries\n",
    "import torch\n",
    "from PIL import Image\n",
    "import torchvision.transforms as transforms\n",
    "\n",
    "def img_to_tensor(path_to_image):\n",
    "    # Read a PIL image\n",
    "    image = Image.open('../../test_img.jpg')\n",
    "\n",
    "    # Define a transform to convert PIL \n",
    "    # image to a Torch tensor\n",
    "    transform = transforms.Compose([\n",
    "        transforms.PILToTensor()\n",
    "    ])\n",
    "\n",
    "    # transform = transforms.PILToTensor()\n",
    "    # Convert the PIL image to Torch tensor\n",
    "    img_tensor = transform(image)\n",
    "    img_tensor = torch.unsqueeze(img_tensor, dim=0) # add dimension to tensor\n",
    "    return img_tensor\n"
   ]
  },
  {
   "cell_type": "code",
   "execution_count": 2,
   "id": "d4cac63d-6aa1-43d7-9fbe-4316b0240deb",
   "metadata": {},
   "outputs": [
    {
     "data": {
      "text/plain": [
       "torch.Size([3, 512, 512])"
      ]
     },
     "execution_count": 2,
     "metadata": {},
     "output_type": "execute_result"
    }
   ],
   "source": [
    "img_tensor.shape"
   ]
  },
  {
   "cell_type": "code",
   "execution_count": 5,
   "id": "b34362f2-bb45-4e8a-80fc-05e921b5d3f4",
   "metadata": {},
   "outputs": [
    {
     "data": {
      "text/plain": [
       "torch.Size([1, 3, 512, 512])"
      ]
     },
     "execution_count": 5,
     "metadata": {},
     "output_type": "execute_result"
    }
   ],
   "source": []
  },
  {
   "cell_type": "code",
   "execution_count": 6,
   "id": "0452647d-d8cc-4da8-8206-1287ea5fe69e",
   "metadata": {},
   "outputs": [
    {
     "data": {
      "text/plain": [
       "torch.Size([3, 512, 512])"
      ]
     },
     "execution_count": 6,
     "metadata": {},
     "output_type": "execute_result"
    }
   ],
   "source": [
    "img_tensor.shape"
   ]
  },
  {
   "cell_type": "code",
   "execution_count": null,
   "id": "b8df1e01-77b3-4848-968d-1612c6956f3b",
   "metadata": {},
   "outputs": [],
   "source": []
  }
 ],
 "metadata": {
  "kernelspec": {
   "display_name": "Python 3",
   "language": "python",
   "name": "python3"
  },
  "language_info": {
   "codemirror_mode": {
    "name": "ipython",
    "version": 3
   },
   "file_extension": ".py",
   "mimetype": "text/x-python",
   "name": "python",
   "nbconvert_exporter": "python",
   "pygments_lexer": "ipython3",
   "version": "3.8.15"
  }
 },
 "nbformat": 4,
 "nbformat_minor": 5
}
