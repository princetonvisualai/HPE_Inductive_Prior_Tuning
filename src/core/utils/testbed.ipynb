{
 "cells": [
  {
   "cell_type": "markdown",
   "id": "b78e6546-568d-4775-a557-315538e1db8a",
   "metadata": {},
   "source": [
    "# Test 600,000 - size training set"
   ]
  },
  {
   "cell_type": "code",
   "execution_count": 7,
   "id": "b2bb3bdb-84ae-497d-9d6d-f7ca233c66f7",
   "metadata": {},
   "outputs": [],
   "source": [
    "from torch.utils.data import Dataset\n",
    "import os\n",
    "from torchvision.io import read_image\n",
    "import numpy as np\n",
    "import random"
   ]
  },
  {
   "cell_type": "code",
   "execution_count": 9,
   "id": "d1f91023-beb8-4a45-9410-25a6c38800d2",
   "metadata": {},
   "outputs": [],
   "source": [
    "SEED = 7\n",
    "random.seed(SEED)\n"
   ]
  },
  {
   "cell_type": "code",
   "execution_count": 25,
   "id": "353e42e9-a082-4b6b-bb48-0b53dea712c5",
   "metadata": {},
   "outputs": [
    {
     "name": "stdout",
     "output_type": "stream",
     "text": [
      "tot_frames:  725532\n"
     ]
    }
   ],
   "source": [
    "subjects = [\"S1\", \"S5\", \"S6\", \"S7\", \"S8\"]\n",
    "\n",
    "frame_paths = []\n",
    "\n",
    "for subject in subjects:\n",
    "    subject_prefix = \"/scratch/network/nobliney/project/data/preprocessed/training/\" + subject + \"/\"\n",
    "    folders = os.listdir(subject_prefix)\n",
    "    for folder in folders:\n",
    "        if not folder.startswith(\".\"):\n",
    "            bbox_prefix = subject_prefix + folder\n",
    "            frames = os.listdir(bbox_prefix)\n",
    "\n",
    "            # filter out non pngs\n",
    "            frames = np.array(frames)\n",
    "            frames = frames[np.char.endswith(frames, '.png')].tolist()\n",
    "            frames = sorted(frames)\n",
    "            frames = [(bbox_prefix + \"/\" + frame) for frame in frames]\n",
    "            \n",
    "            if len(frames) % 2 == 0:\n",
    "                frame_paths += frames\n",
    "                random.shuffle(frames)\n",
    "                frame_paths += frames\n",
    "                random.shuffle(frames)\n",
    "                frame_paths += frames\n",
    "                random.shuffle(frames)\n",
    "                frame_paths += frames\n",
    "            elif len(frames) > 2:\n",
    "                frame_paths += frames[:-1]\n",
    "                random.shuffle(frames)\n",
    "                frame_paths += frames[:-1]\n",
    "                random.shuffle(frames)\n",
    "                frame_paths += frames[:-1]\n",
    "                random.shuffle(frames)\n",
    "                frame_paths += frames[:-1]\n",
    "tot_frames = len(frame_paths) // 2\n",
    "            \n",
    "print(\"tot_frames: \", tot_frames)"
   ]
  },
  {
   "cell_type": "code",
   "execution_count": null,
   "id": "dde15075-45b3-461f-b160-a9f5c4797c64",
   "metadata": {},
   "outputs": [],
   "source": [
    "subjects = [\"S1\", \"S5\", \"S6\", \"S7\", \"S8\"]\n",
    "self.transform = transform\n",
    "self.frame_paths = []\n",
    "\n",
    "for subject in subjects:\n",
    "    subject_prefix = \"/scratch/network/nobliney/project/data/preprocessed/training/\" + subject + \"/\"\n",
    "    folders = os.listdir(subject_prefix)\n",
    "    for folder in folders:\n",
    "        if not folder.startswith(\".\"):\n",
    "            bbox_prefix = subject_prefix + folder\n",
    "            frames = os.listdir(bbox_prefix)\n",
    "\n",
    "            # filter out non pngs\n",
    "            frames = np.array(frames)\n",
    "            frames = frames[np.char.endswith(frames, '.png')].tolist()\n",
    "            frames = sorted(frames)\n",
    "            frames = [(bbox_prefix + \"/\" + frame) for frame in frames]\n",
    "\n",
    "            if len(frames) % 2 == 0:\n",
    "                self.frame_paths += frames\n",
    "            elif len(frames) > 2:\n",
    "                self.frame_paths += frames[:-1]\n",
    "\n",
    "self.len = len(self.frame_paths) // 2\n",
    "print(\"Length of Dataset: \", self.len)\n",
    "self.prefix = \"/scratch/network/nobliney/project/\"\n",
    "print(\"Finished initializing dataset.\")"
   ]
  },
  {
   "cell_type": "markdown",
   "id": "2eae1978-97bf-485a-81b9-7b7f9788c3df",
   "metadata": {},
   "source": [
    "# The rest"
   ]
  },
  {
   "cell_type": "code",
   "execution_count": 1,
   "id": "3e00e5cf-ef71-4893-8bd5-0134dba2af6a",
   "metadata": {},
   "outputs": [],
   "source": [
    "import os\n",
    "import numpy as np\n",
    "subjects = [\"S1\", \"S11\", \"S5\", \"S6\", \"S7\", \"S8\", \"S9\"]"
   ]
  },
  {
   "cell_type": "code",
   "execution_count": 7,
   "id": "f1b5889c-4c8e-4b0c-a188-5b5bbfa841d6",
   "metadata": {},
   "outputs": [
    {
     "data": {
      "text/plain": [
       "'.png'"
      ]
     },
     "execution_count": 7,
     "metadata": {},
     "output_type": "execute_result"
    }
   ],
   "source": [
    "\"a.png\"[-4:]"
   ]
  },
  {
   "cell_type": "code",
   "execution_count": 24,
   "id": "3e6b11ef-7536-45e3-aed0-e46ecd888b76",
   "metadata": {},
   "outputs": [
    {
     "data": {
      "text/plain": [
       "['a.png', 'r.png', 'w.png']"
      ]
     },
     "execution_count": 24,
     "metadata": {},
     "output_type": "execute_result"
    }
   ],
   "source": [
    "asdf = [\"a.png\", \"r.png\", \"t.jpg\", \"w.png\"]\n",
    "asdf = np.array(asdf)\n",
    "asdf = asdf[np.char.endswith(asdf, '.png')].tolist()\n",
    "asdf"
   ]
  },
  {
   "cell_type": "code",
   "execution_count": 6,
   "id": "017167ba-50c7-468d-867b-297b73d2fe44",
   "metadata": {},
   "outputs": [],
   "source": [
    "for i in range(0):\n",
    "    print(\"hello\")"
   ]
  },
  {
   "cell_type": "code",
   "execution_count": 3,
   "id": "ce27adbc-7594-4cef-b289-1a610ff0f955",
   "metadata": {},
   "outputs": [
    {
     "name": "stdout",
     "output_type": "stream",
     "text": [
      "../../../data/preprocessed/training/S1/1.0,1.0,3.0,5.0_58860488\n",
      "['frame_88NHG6DDL1.png', 'frame_4CG8ISY3LF.png', 'frame_7LC1RDTBG4.png', 'frame_J4F9N5ZWB5.png', 'frame_UBMCQ3LUFP.png', 'frame_ZGG6RMWDIZ.png', 'frame_OTUH2W1QIN.png', 'frame_05SCYJXGVY.png', 'frame_S9N5400XIQ.png', 'frame_CZ5GFK2LOW.png', 'frame_ZIUYEHSUUN.png', 'frame_JMJIVQXRPU.png', 'frame_IFSR2PCFC1.png', 'frame_QGXH38T9F5.png', 'frame_3CZJJ1S07E.png', 'frame_E2M68UQV20.png', 'frame_CTS6OGSSPK.png', 'frame_T6C2T5Q6FP.png', 'frame_RCAFQSN8AY.png', 'frame_0X71499UJF.png', 'frame_IUXFOFLER4.png', 'frame_LDNZJS8YOX.png', 'frame_HYHRF804W9.png', 'frame_HP4TNCWG5F.png', 'frame_GKB38NYPQQ.png', 'frame_FB1KS6Z594.png', 'frame_DVVIN6C1TW.png', 'frame_GCIRB1UQY1.png', 'frame_8LA13GKIDP.png', 'frame_IBDHKEVVXQ.png', 'frame_1DPZXSMC4T.png', 'frame_N6GD29XEO4.png', 'frame_HUQCALBYXY.png', 'frame_LYYKU67MNF.png', 'frame_1SCR5XSY0O.png', 'frame_0LRCHMV42S.png', 'frame_3NVQJJRFQA.png', 'frame_QFGD20V7X8.png', 'frame_G2Q19693DP.png', 'frame_RF4W9I1XZJ.png', 'frame_XY5JRQXEIJ.png', 'frame_CM775YFOHW.png', 'frame_V0GC00KMJP.png', 'frame_0RZNHJNUZ5.png', 'frame_3D5ECDMH0P.png', 'frame_UARQ4B38NX.png', 'frame_58NNOW0R5T.png', 'frame_TZUV5PTAEC.png', 'frame_COBJQVIVOH.png', 'frame_U50UDX211I.png', 'frame_YOQESSGEND.png', 'frame_7CJ55ZI0PL.png', 'frame_1CCP51KGC0.png', 'frame_PKI5436N56.png', 'frame_FV5TNR769F.png', 'frame_XZ11F9GFGX.png', 'frame_LU2AX8LYVP.png', 'frame_G357RODTSG.png', 'frame_D9S598ZO1D.png', 'frame_40ATH7BWEK.png', 'frame_22PX2KBCZ8.png', 'frame_2NZV5PRU8O.png', 'frame_VTGMHA2E1I.png', 'frame_G8GJ941MT8.png', 'frame_DLP0YY0TVO.png', 'frame_JIT0GMAL9R.png', 'frame_5WJFO2K0NA.png', 'frame_JGIIHTUMG7.png', 'frame_DSURGNORD6.png', 'frame_SQCRR9RHLM.png', 'frame_6TWJBC0FED.png', 'frame_L2F2ECH6GQ.png', 'frame_W675B8192Y.png', 'frame_LLWEFXIGTU.png', 'frame_82H0C87GW3.png', 'frame_6JPDDMX1Q5.png', 'frame_55IIXSCB1E.png', 'frame_K0T1O0IP6U.png', 'frame_DYJ3YQW7JH.png', 'frame_XE043GN78K.png', 'frame_HDWU37M6J0.png', 'frame_6HLM85YA8O.png', 'frame_6D0CB4IQFO.png', 'frame_M9Q8OBSHGL.png', 'frame_JS67O8LHG6.png', 'frame_OA3PR7T15R.png', 'frame_CF4ILLMF1D.png', 'frame_H9Z37Z7MDZ.png', 'frame_MUO4ZZKGJ4.png', 'frame_E4QVLUJT54.png', 'frame_U6H9UZUXAD.png', 'frame_83B85534NL.png', 'frame_XLXCN3IPCS.png', 'frame_OV3AUX7RPL.png', 'frame_JN3WGWOFPE.png', 'frame_I73X4A0NZN.png', 'frame_CNFRU8NKYP.png', 'frame_YKS5NTZI48.png', 'frame_H8PC3CFSUU.png', 'frame_2QBAIM9GD1.png', 'frame_ZB7I0919ST.png', 'frame_Y493IN95CD.png', 'frame_W1EUBKTXA6.png', 'frame_RVPFYTYLSX.png', 'frame_SY0LMJU6SJ.png', 'frame_NBWRWW459Q.png', 'frame_2FS28E6K07.png', 'frame_8RTEB91L9H.png', 'frame_ASFQ70R4Z9.png', 'frame_MFMM7L2RLY.png', 'frame_KINO3MC7VC.png', 'frame_0N9J2YW0L7.png', 'frame_3N7OQCEXEN.png', 'frame_10TX3ZZF3X.png', 'frame_X8I9EGLL9Q.png', 'frame_CSNB6KOF5F.png', 'frame_QAOTD43O7C.png', 'frame_3ZQAESVD6O.png', 'frame_ZOK5XDRF8O.png', 'frame_Q8W5K5YSYT.png', 'frame_GUMZW1DLWE.png', 'frame_3FWYVLBPZG.png', 'frame_GJWAP5MS94.png', 'frame_8UF6TNAWZQ.png', 'frame_5GATL67Q3H.png', 'frame_QEIBY8WJDG.png', 'frame_Y3GYWCQ7O8.png', 'frame_0P2G0KUR38.png', 'frame_667PPQX2SQ.png', 'frame_TJ35KKIHLZ.png', 'frame_ZKR9JHT6UY.png', 'frame_02441XJJY1.png', 'frame_ZFK677JEL3.png', 'frame_L7F8MXW0Z4.png', 'frame_47TCS00B4X.png', 'frame_KT8HNFMLKY.png', 'frame_MR7067V2KI.png', 'frame_M1MNVIJCWI.png', 'frame_RLK1SIIZKP.png', 'frame_T0HRZP211S.png', 'frame_8KRZKRO76O.png', 'frame_9UX3CG867H.png', 'frame_1713G0B2O5.png', 'frame_KOU501QCMI.png', 'frame_V1GDSP4L0K.png', 'frame_WDDI0Z9SK8.png', 'frame_JHRQZS9QGQ.png', 'frame_1Q7TDQ6992.png', 'frame_VQBV3KKM3L.png', 'frame_M164ULG7RK.png', 'frame_JUIR76SKR6.png', 'frame_SM8M7HY95F.png', 'frame_XEC4R3B7YV.png', 'frame_5F4IV8BEY2.png', 'frame_S311MRAEAD.png', 'frame_0OV5UBD7FI.png', 'frame_98BX12R2AQ.png', 'frame_CJBEQLHKNO.png', 'frame_Y4MSO00X03.png', 'frame_131CWNGH7K.png', 'frame_EP71JGP965.png', 'frame_AIPLUHDCKC.png', 'frame_V7WZ7W3V6N.png', 'frame_RKVZBTUGDF.png', 'frame_ZT0I9AW8NL.png', 'frame_OIAUC1ZH0M.png', 'frame_9EB6G0D75V.png', 'frame_UKK8262FB3.png', 'frame_RMSV7WSKPH.png', 'frame_PCNL6T1T4O.png', 'frame_Y1MTMB6LNY.png', 'frame_25A4FHZGKL.png', 'frame_8LUJAF962M.png', 'frame_TI6L3GL9WX.png', 'frame_4O2INDSSWZ.png', 'frame_YJT3MTGV0F.png', 'frame_DCRIUQ2RLP.png', 'frame_JXC44WIADP.png', 'frame_EHA48B3CXA.png', 'frame_6JG3BF1LFD.png', 'frame_ELMQ5PKGN7.png', 'frame_ZPIZNIX6LW.png', 'frame_CSRYB41W7H.png', 'frame_6CLJKXMRBA.png', 'frame_TPW64KERM2.png', 'frame_KS0MTJ4FDX.png', 'frame_FWE074WFVW.png', 'frame_GUQGI4LHV9.png', 'frame_NWV63G0OYK.png', 'frame_GF4GR26IQM.png', 'frame_2Z32MY17PK.png', 'frame_SO60ZCF7QP.png', 'frame_4BS2XFJ1OY.png', 'frame_BRFNMOHJO5.png', 'frame_6QSFNFMTLF.png', 'frame_AUJAD2MB25.png', 'frame_EDHSLNP8DX.png', 'frame_YZBWBQ0BRU.png', 'frame_R1A1BO62N2.png', 'frame_1D6K4GM8EX.png', 'frame_6NOZTBKPKM.png', 'frame_I0EELWESCN.png', 'frame_C7OOUB1CBK.png', 'frame_YMSZFOMP6S.png', 'frame_X605F8R4BT.png', 'frame_EICCTSX26P.png', 'frame_PNR6PA1L9U.png', 'frame_FKWE7EBHAN.png', 'frame_LG65M9ZZLK.png', 'frame_Z917QQN34I.png', 'frame_VRQIL1C601.png', 'frame_PY3ZXW5G66.png', 'frame_RMMTJ0F7NW.png', 'frame_N8KOZ7BKXM.png', 'frame_KN82X3OU3L.png', 'frame_GO49200NZ5.png', 'frame_K7W23L6AGU.png', 'frame_HT12155K5Y.png', 'frame_OQ7FGWQNIL.png', 'frame_AQBUUFXLFF.png', 'frame_K5AQ90JIUZ.png', 'frame_NS1BEBOUWL.png', 'frame_EUNPGK6H26.png', 'frame_WC1W9ODW5S.png', 'frame_IKGOYDQ0XX.png', 'frame_1RKM9BSH0Y.png', 'frame_P9OKBP5OZ6.png', 'frame_G0XXNXV7UC.png', 'frame_PLIH1LA2DJ.png', 'frame_ERWMEJ9CSF.png', 'frame_3D2J84M1DS.png', 'frame_6D7VZBDX2T.png', 'frame_IL5Z1YI3PH.png', 'frame_NXFKJUOFKK.png', 'frame_00Q7JZ2GC4.png', 'frame_FDVS0J47YS.png', 'frame_ZSDVVYJ382.png', 'frame_7NP3A0VIN5.png', 'frame_41XO9LOKWW.png', 'frame_4CHJFWWSDM.png', 'frame_H3B8I5IP6E.png', 'frame_I23SJEHNXR.png', 'frame_7SPGZY36QX.png', 'frame_3POTZG6LRI.png', 'frame_S6IXBPC4BS.png', 'frame_X19XG52MLL.png', 'frame_021MI8X29U.png', 'frame_1FNVU8VJ39.png', 'frame_1OHZHBXQ7C.png', 'frame_68WC1Z4J03.png', 'frame_L7MKXLFRWS.png', 'frame_H9EPWU1Q2T.png', 'frame_IIU7M40G63.png', 'frame_8ND4IPXDFL.png', 'frame_LR6MNJTUYF.png', 'frame_C2OF2Y6GWD.png', 'frame_CK3086C6TQ.png', 'frame_YXGDQINZBZ.png', 'frame_Y5VO4YUHVY.png', 'frame_2I8EAE870A.png', 'frame_A9ZBNZ228A.png', 'frame_09DOYARHQC.png', 'frame_BG703UBDCX.png', 'frame_5Q7TH5APF5.png', 'frame_V5TZGLUG9J.png', 'frame_6HT7DPDTVT.png', 'frame_L1N0TLG8TB.png', 'frame_38N36MZQ6H.png', 'frame_TNEU5UZ38T.png', 'frame_NDINLXCO10.png', 'frame_L5TT6Z5XOG.png', 'frame_HEIVPMCNZK.png', 'frame_G8Q2LI9P4N.png', 'frame_1SWYIOKAKN.png', 'frame_YLY8TLX50B.png', 'frame_7FXKJS04QO.png', '.ipynb_checkpoints']\n"
     ]
    },
    {
     "ename": "KeyboardInterrupt",
     "evalue": "Interrupted by user",
     "output_type": "error",
     "traceback": [
      "\u001b[0;31m---------------------------------------------------------------------------\u001b[0m",
      "\u001b[0;31mKeyboardInterrupt\u001b[0m                         Traceback (most recent call last)",
      "\u001b[0;32m/tmp/ipykernel_1427403/3361649150.py\u001b[0m in \u001b[0;36m<module>\u001b[0;34m\u001b[0m\n\u001b[1;32m      8\u001b[0m         \u001b[0mframes\u001b[0m \u001b[0;34m=\u001b[0m \u001b[0mos\u001b[0m\u001b[0;34m.\u001b[0m\u001b[0mlistdir\u001b[0m\u001b[0;34m(\u001b[0m\u001b[0mbbox_prefix\u001b[0m\u001b[0;34m)\u001b[0m\u001b[0;34m\u001b[0m\u001b[0;34m\u001b[0m\u001b[0m\n\u001b[1;32m      9\u001b[0m         \u001b[0mprint\u001b[0m\u001b[0;34m(\u001b[0m\u001b[0mframes\u001b[0m\u001b[0;34m)\u001b[0m\u001b[0;34m\u001b[0m\u001b[0;34m\u001b[0m\u001b[0m\n\u001b[0;32m---> 10\u001b[0;31m         \u001b[0minput\u001b[0m\u001b[0;34m(\u001b[0m\u001b[0;34m)\u001b[0m\u001b[0;34m\u001b[0m\u001b[0;34m\u001b[0m\u001b[0m\n\u001b[0m\u001b[1;32m     11\u001b[0m         \u001b[0mframes\u001b[0m \u001b[0;34m=\u001b[0m \u001b[0;34m[\u001b[0m\u001b[0;34m(\u001b[0m\u001b[0mbbox_prefix\u001b[0m \u001b[0;34m+\u001b[0m \u001b[0;34m\"/\"\u001b[0m \u001b[0;34m+\u001b[0m \u001b[0mframe\u001b[0m\u001b[0;34m)\u001b[0m \u001b[0;32mfor\u001b[0m \u001b[0mframe\u001b[0m \u001b[0;32min\u001b[0m \u001b[0mframes\u001b[0m\u001b[0;34m]\u001b[0m\u001b[0;34m\u001b[0m\u001b[0;34m\u001b[0m\u001b[0m\n\u001b[1;32m     12\u001b[0m         \u001b[0mprint\u001b[0m\u001b[0;34m(\u001b[0m\u001b[0mframes\u001b[0m\u001b[0;34m)\u001b[0m\u001b[0;34m\u001b[0m\u001b[0;34m\u001b[0m\u001b[0m\n",
      "\u001b[0;32m~/.conda/envs/poseestimation/lib/python3.7/site-packages/ipykernel/kernelbase.py\u001b[0m in \u001b[0;36mraw_input\u001b[0;34m(self, prompt)\u001b[0m\n\u001b[1;32m   1077\u001b[0m             \u001b[0mself\u001b[0m\u001b[0;34m.\u001b[0m\u001b[0m_parent_ident\u001b[0m\u001b[0;34m[\u001b[0m\u001b[0;34m\"shell\"\u001b[0m\u001b[0;34m]\u001b[0m\u001b[0;34m,\u001b[0m\u001b[0;34m\u001b[0m\u001b[0;34m\u001b[0m\u001b[0m\n\u001b[1;32m   1078\u001b[0m             \u001b[0mself\u001b[0m\u001b[0;34m.\u001b[0m\u001b[0mget_parent\u001b[0m\u001b[0;34m(\u001b[0m\u001b[0;34m\"shell\"\u001b[0m\u001b[0;34m)\u001b[0m\u001b[0;34m,\u001b[0m\u001b[0;34m\u001b[0m\u001b[0;34m\u001b[0m\u001b[0m\n\u001b[0;32m-> 1079\u001b[0;31m             \u001b[0mpassword\u001b[0m\u001b[0;34m=\u001b[0m\u001b[0;32mFalse\u001b[0m\u001b[0;34m,\u001b[0m\u001b[0;34m\u001b[0m\u001b[0;34m\u001b[0m\u001b[0m\n\u001b[0m\u001b[1;32m   1080\u001b[0m         )\n\u001b[1;32m   1081\u001b[0m \u001b[0;34m\u001b[0m\u001b[0m\n",
      "\u001b[0;32m~/.conda/envs/poseestimation/lib/python3.7/site-packages/ipykernel/kernelbase.py\u001b[0m in \u001b[0;36m_input_request\u001b[0;34m(self, prompt, ident, parent, password)\u001b[0m\n\u001b[1;32m   1118\u001b[0m             \u001b[0;32mexcept\u001b[0m \u001b[0mKeyboardInterrupt\u001b[0m\u001b[0;34m:\u001b[0m\u001b[0;34m\u001b[0m\u001b[0;34m\u001b[0m\u001b[0m\n\u001b[1;32m   1119\u001b[0m                 \u001b[0;31m# re-raise KeyboardInterrupt, to truncate traceback\u001b[0m\u001b[0;34m\u001b[0m\u001b[0;34m\u001b[0m\u001b[0;34m\u001b[0m\u001b[0m\n\u001b[0;32m-> 1120\u001b[0;31m                 \u001b[0;32mraise\u001b[0m \u001b[0mKeyboardInterrupt\u001b[0m\u001b[0;34m(\u001b[0m\u001b[0;34m\"Interrupted by user\"\u001b[0m\u001b[0;34m)\u001b[0m \u001b[0;32mfrom\u001b[0m \u001b[0;32mNone\u001b[0m\u001b[0;34m\u001b[0m\u001b[0;34m\u001b[0m\u001b[0m\n\u001b[0m\u001b[1;32m   1121\u001b[0m             \u001b[0;32mexcept\u001b[0m \u001b[0mException\u001b[0m\u001b[0;34m:\u001b[0m\u001b[0;34m\u001b[0m\u001b[0;34m\u001b[0m\u001b[0m\n\u001b[1;32m   1122\u001b[0m                 \u001b[0mself\u001b[0m\u001b[0;34m.\u001b[0m\u001b[0mlog\u001b[0m\u001b[0;34m.\u001b[0m\u001b[0mwarning\u001b[0m\u001b[0;34m(\u001b[0m\u001b[0;34m\"Invalid Message:\"\u001b[0m\u001b[0;34m,\u001b[0m \u001b[0mexc_info\u001b[0m\u001b[0;34m=\u001b[0m\u001b[0;32mTrue\u001b[0m\u001b[0;34m)\u001b[0m\u001b[0;34m\u001b[0m\u001b[0;34m\u001b[0m\u001b[0m\n",
      "\u001b[0;31mKeyboardInterrupt\u001b[0m: Interrupted by user"
     ]
    }
   ],
   "source": [
    "frame_paths = []\n",
    "for subject in subjects:\n",
    "    subject_prefix = \"../../../data/preprocessed/training/\" + subject + \"/\"\n",
    "    folders = os.listdir(subject_prefix)\n",
    "    for folder in folders:\n",
    "        bbox_prefix = subject_prefix + folder\n",
    "        print(bbox_prefix)\n",
    "        frames = os.listdir(bbox_prefix)\n",
    "        print(frames)\n",
    "        input()\n",
    "        frames = [(bbox_prefix + \"/\" + frame) for frame in frames]\n",
    "        print(frames)\n",
    "        if len(frames) % 2 == 0:\n",
    "            frame_paths += frames\n",
    "        else:\n",
    "            frame_paths += frames[:-1]"
   ]
  },
  {
   "cell_type": "code",
   "execution_count": 20,
   "id": "3cd5627f-91a8-457c-87c5-f70749ec3242",
   "metadata": {},
   "outputs": [
    {
     "data": {
      "text/plain": [
       "249178"
      ]
     },
     "execution_count": 20,
     "metadata": {},
     "output_type": "execute_result"
    }
   ],
   "source": [
    "frame_paths = np.array(frame_paths)\n",
    "np.sum(frame_paths // 2)\n"
   ]
  },
  {
   "cell_type": "code",
   "execution_count": 24,
   "id": "f7be8400-bcdb-46ea-b9fd-415731b6a09f",
   "metadata": {},
   "outputs": [
    {
     "data": {
      "text/plain": [
       "['hithe', 'himan', 'hilives']"
      ]
     },
     "execution_count": 24,
     "metadata": {},
     "output_type": "execute_result"
    }
   ],
   "source": [
    "asdf = [\"the\", \"man\", \"lives\"]\n",
    "[(\"hi\" + x) for x in asdf]"
   ]
  },
  {
   "cell_type": "code",
   "execution_count": null,
   "id": "3acc3670-8416-4544-8e24-e32e11d64cef",
   "metadata": {},
   "outputs": [],
   "source": [
    "# num frames: 498807"
   ]
  },
  {
   "cell_type": "code",
   "execution_count": null,
   "id": "02454a7c-a104-4d3d-a0df-6efdbda5480d",
   "metadata": {},
   "outputs": [],
   "source": []
  },
  {
   "cell_type": "code",
   "execution_count": null,
   "id": "72839960-9bd2-4f63-9129-d6a46877cb60",
   "metadata": {},
   "outputs": [],
   "source": []
  }
 ],
 "metadata": {
  "kernelspec": {
   "display_name": "poseestimation [~/.conda/envs/poseestimation/]",
   "language": "python",
   "name": "conda_poseestimation"
  },
  "language_info": {
   "codemirror_mode": {
    "name": "ipython",
    "version": 3
   },
   "file_extension": ".py",
   "mimetype": "text/x-python",
   "name": "python",
   "nbconvert_exporter": "python",
   "pygments_lexer": "ipython3",
   "version": "3.7.16"
  }
 },
 "nbformat": 4,
 "nbformat_minor": 5
}
