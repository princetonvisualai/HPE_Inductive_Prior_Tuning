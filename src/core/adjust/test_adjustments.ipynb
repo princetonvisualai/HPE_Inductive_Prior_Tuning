{
 "cells": [
  {
   "cell_type": "markdown",
   "id": "1c6331ce-5b84-4957-9560-ca6998382466",
   "metadata": {
    "tags": []
   },
   "source": [
    "# Recalculate anchors"
   ]
  },
  {
   "cell_type": "code",
   "execution_count": 10,
   "id": "e9912ad9-5330-44ac-9b7c-6e6cd592aeef",
   "metadata": {},
   "outputs": [
    {
     "ename": "NameError",
     "evalue": "name 'warped_heatmaps_new' is not defined",
     "output_type": "error",
     "traceback": [
      "\u001b[0;31m---------------------------------------------------------------------------\u001b[0m",
      "\u001b[0;31mNameError\u001b[0m                                 Traceback (most recent call last)",
      "\u001b[0;32m/tmp/ipykernel_3739057/662332722.py\u001b[0m in \u001b[0;36m<module>\u001b[0;34m\u001b[0m\n\u001b[0;32m----> 1\u001b[0;31m \u001b[0mheatmap\u001b[0m \u001b[0;34m=\u001b[0m \u001b[0mwarped_heatmaps_new\u001b[0m\u001b[0;34m.\u001b[0m\u001b[0mrepeat\u001b[0m\u001b[0;34m(\u001b[0m\u001b[0;36m2\u001b[0m\u001b[0;34m,\u001b[0m \u001b[0;36m1\u001b[0m\u001b[0;34m,\u001b[0m \u001b[0;36m1\u001b[0m\u001b[0;34m,\u001b[0m \u001b[0;36m1\u001b[0m\u001b[0;34m)\u001b[0m\u001b[0;34m[\u001b[0m\u001b[0;34m:\u001b[0m\u001b[0;34m,\u001b[0m\u001b[0;36m1\u001b[0m\u001b[0;34m:\u001b[0m\u001b[0;36m13\u001b[0m\u001b[0;34m]\u001b[0m\u001b[0;34m\u001b[0m\u001b[0;34m\u001b[0m\u001b[0m\n\u001b[0m\u001b[1;32m      2\u001b[0m \u001b[0mheatmap\u001b[0m\u001b[0;34m.\u001b[0m\u001b[0mshape\u001b[0m\u001b[0;34m\u001b[0m\u001b[0;34m\u001b[0m\u001b[0m\n",
      "\u001b[0;31mNameError\u001b[0m: name 'warped_heatmaps_new' is not defined"
     ]
    }
   ],
   "source": [
    "heatmap = warped_heatmaps_new.repeat(2, 1, 1, 1)[:,1:13]\n",
    "heatmap.shape"
   ]
  },
  {
   "cell_type": "code",
   "execution_count": 11,
   "id": "224f1263-a8a0-476d-ba9e-4c01486d2fc7",
   "metadata": {},
   "outputs": [
    {
     "data": {
      "text/plain": [
       "torch.Size([1, 1, 3, 3, 1])"
      ]
     },
     "execution_count": 11,
     "metadata": {},
     "output_type": "execute_result"
    }
   ],
   "source": [
    "pred_orig.core.shape"
   ]
  },
  {
   "cell_type": "code",
   "execution_count": 123,
   "id": "2c664c86-aee9-4a85-948e-6415efe40359",
   "metadata": {},
   "outputs": [
    {
     "data": {
      "text/plain": [
       "tensor([[129],\n",
       "        [140],\n",
       "        [130],\n",
       "        [142],\n",
       "        [129],\n",
       "        [136],\n",
       "        [130],\n",
       "        [140],\n",
       "        [112],\n",
       "        [147],\n",
       "        [114],\n",
       "        [137]], device='cuda:0')"
      ]
     },
     "execution_count": 123,
     "metadata": {},
     "output_type": "execute_result"
    }
   ],
   "source": [
    "minxs.unsqueeze(-1)"
   ]
  },
  {
   "cell_type": "code",
   "execution_count": 124,
   "id": "38234591-e000-4971-882d-5cf20e366ff5",
   "metadata": {},
   "outputs": [
    {
     "name": "stdout",
     "output_type": "stream",
     "text": [
      "tensor([[ 1,  2,  3,  4,  5,  6,  7,  8,  9],\n",
      "        [10, 11, 12, 13, 14, 15, 16, 17, 18]])\n"
     ]
    },
    {
     "data": {
      "text/plain": [
       "tensor([[ 8],\n",
       "        [12]])"
      ]
     },
     "execution_count": 124,
     "metadata": {},
     "output_type": "execute_result"
    }
   ],
   "source": [
    "t = torch.tensor([[[1, 2, 3],\n",
    "                  [4, 5, 6],\n",
    "                  [7, 8, 9]], \n",
    "                  [[10, 11, 12],\n",
    "                   [13, 14, 15],\n",
    "                   [16, 17, 18],\n",
    "                  ]])\n",
    "\n",
    "t_ = t.view(-1, 9)\n",
    "print(t_)\n",
    "\n",
    "# row number 2, col 1 --> 2 * 3 + col\n",
    "torch.gather(t_, dim = 1, index = torch.tensor([[7],[2]]))"
   ]
  },
  {
   "cell_type": "code",
   "execution_count": 125,
   "id": "481d1216-ee53-411b-8db2-c96eadba0a89",
   "metadata": {},
   "outputs": [
    {
     "data": {
      "text/plain": [
       "tensor([ True, False])"
      ]
     },
     "execution_count": 125,
     "metadata": {},
     "output_type": "execute_result"
    }
   ],
   "source": [
    "torch.tensor([True, False]) | torch.tensor([True, False])"
   ]
  },
  {
   "cell_type": "code",
   "execution_count": 174,
   "id": "a2483c28-a93c-48bc-91a4-d4b762e4fc5f",
   "metadata": {},
   "outputs": [
    {
     "data": {
      "text/plain": [
       "torch.Size([3, 256, 256])"
      ]
     },
     "execution_count": 174,
     "metadata": {},
     "output_type": "execute_result"
    }
   ],
   "source": [
    "#mask = heatmap == 0\n",
    "#(heatmap*mask).sum(dim=0)/mask.view(-1, 256 * 256).sum(dim=1)\n",
    "mean = heatmap.view(-1, 256 * 256).sum(dim=1) / (heatmap != 0).view(-1, 256 * 256).sum(dim=1)\n",
    "mean.min()\n",
    "heatmap[heatmap > heatmap[heatmap != 0].mean()].mean()\n",
    "heatmap[[2, 3, 4]].shape"
   ]
  },
  {
   "cell_type": "code",
   "execution_count": 162,
   "id": "7c93e3a4-5077-4171-9ff7-b7321a1a50b3",
   "metadata": {},
   "outputs": [
    {
     "data": {
      "text/plain": [
       "tensor(nan)"
      ]
     },
     "execution_count": 162,
     "metadata": {},
     "output_type": "execute_result"
    }
   ],
   "source": [
    "torch.tensor([torch.nan, 2]).min()"
   ]
  },
  {
   "cell_type": "code",
   "execution_count": 2,
   "id": "e1556dae-1da8-4c9e-91f0-b16720f6e2ca",
   "metadata": {},
   "outputs": [
    {
     "ename": "NameError",
     "evalue": "name 'warped_heatmaps_new' is not defined",
     "output_type": "error",
     "traceback": [
      "\u001b[0;31m---------------------------------------------------------------------------\u001b[0m",
      "\u001b[0;31mNameError\u001b[0m                                 Traceback (most recent call last)",
      "\u001b[0;32m/tmp/ipykernel_3739354/2044721703.py\u001b[0m in \u001b[0;36m<module>\u001b[0;34m\u001b[0m\n\u001b[0;32m----> 1\u001b[0;31m \u001b[0mheatmap\u001b[0m \u001b[0;34m=\u001b[0m \u001b[0mwarped_heatmaps_new\u001b[0m\u001b[0;34m.\u001b[0m\u001b[0mrepeat\u001b[0m\u001b[0;34m(\u001b[0m\u001b[0;36m2\u001b[0m\u001b[0;34m,\u001b[0m \u001b[0;36m1\u001b[0m\u001b[0;34m,\u001b[0m \u001b[0;36m1\u001b[0m\u001b[0;34m,\u001b[0m \u001b[0;36m1\u001b[0m\u001b[0;34m)\u001b[0m\u001b[0;34m[\u001b[0m\u001b[0;34m:\u001b[0m\u001b[0;34m,\u001b[0m\u001b[0;36m1\u001b[0m\u001b[0;34m:\u001b[0m\u001b[0;36m13\u001b[0m\u001b[0;34m]\u001b[0m\u001b[0;34m\u001b[0m\u001b[0;34m\u001b[0m\u001b[0m\n\u001b[0m\u001b[1;32m      2\u001b[0m \u001b[0;31m#heatmap = warped_heatmaps_new.repeat(2)\u001b[0m\u001b[0;34m\u001b[0m\u001b[0;34m\u001b[0m\u001b[0;34m\u001b[0m\u001b[0m\n\u001b[1;32m      3\u001b[0m \u001b[0;31m#print(heatmpa)\u001b[0m\u001b[0;34m\u001b[0m\u001b[0;34m\u001b[0m\u001b[0;34m\u001b[0m\u001b[0m\n\u001b[1;32m      4\u001b[0m \u001b[0mdouble\u001b[0m \u001b[0;34m=\u001b[0m \u001b[0mpred_orig\u001b[0m\u001b[0;34m.\u001b[0m\u001b[0mdouble\u001b[0m\u001b[0;34m\u001b[0m\u001b[0;34m\u001b[0m\u001b[0m\n\u001b[1;32m      5\u001b[0m \u001b[0;34m\u001b[0m\u001b[0m\n",
      "\u001b[0;31mNameError\u001b[0m: name 'warped_heatmaps_new' is not defined"
     ]
    }
   ],
   "source": [
    "heatmap = warped_heatmaps_new.repeat(2, 1, 1, 1)[:,1:13]\n",
    "#heatmap = warped_heatmaps_new.repeat(2)\n",
    "#print(heatmpa)\n",
    "double = pred_orig.double\n",
    "\n",
    "for i in range(warped_heatmaps_new.shape[0]): # for each in batch\n",
    "    heatmap = heatmaps[i]\n",
    "    #print(heatmap.shape)\n",
    "    threshold = heatmap[heatmap >= heatmap[heatmap != 0].mean()].mean()\n",
    "    where = heatmap > threshold  # a high threshold gets the anchors closer to the parts, empirically, \n",
    "    #print(torch.nonzero(torch.sum(where, 1)))\n",
    "    xsums = torch.nonzero(torch.sum(where, 1))\n",
    "    #print(torch.sum(where, 1).shape)\n",
    "    bincount = torch.bincount(xsums[:,0])\n",
    "    unique = torch.unique(xsums[:,0])\n",
    "    #print(xsums)\n",
    "    indices = torch.cumsum(torch.cat([torch.tensor([0], device = device), bincount], dim = 0), dim=0)\n",
    "    minxs = xsums[indices[:-1],:][:,1]\n",
    "    maxxs = xsums[(indices - 1)[1:],:][:,1]\n",
    "\n",
    "    xdist = (maxxs - minxs)\n",
    "    \n",
    "    #print(xdist.shape)\n",
    "    \n",
    "    ysums = torch.nonzero(torch.sum(where, 2))\n",
    "    bincount = torch.bincount(ysums[:,0])\n",
    "    #print(bincount)\n",
    "    indices = torch.cumsum(torch.cat([torch.tensor([0], device = device), bincount], dim = 0), dim=0)\n",
    "    #print(indices.shape)\n",
    "    minys = ysums[indices[:-1],:][:,1]\n",
    "    maxys = ysums[(indices - 1)[1:],:][:,1]\n",
    "\n",
    "    ydist = (maxys - minys)\n",
    "    \n",
    "    isvertical = ydist > xdist\n",
    "    \n",
    "    heatmap_ = heatmap.view(-1,256 * 256) \n",
    "\n",
    "    # row number 2, col 1 --> 2 * 3 + col\n",
    "    \n",
    "    # top left to bottom right\n",
    "    minyminx= torch.gather(heatmap_, dim = 1, index = (minys * 256 + minxs).unsqueeze(-1)).squeeze(1)\n",
    "    \n",
    "    # bottom left to top right\n",
    "    minymaxx= torch.gather(heatmap_, dim = 1, index = (minys * 256 + maxxs).unsqueeze(-1)).squeeze(1)\n",
    "      \n",
    "    centerxs = (minxs + maxxs) // 2\n",
    "    centerys = (minys + maxys) // 2\n",
    "    \n",
    "    # horizontal\n",
    "    horizontal= torch.gather(heatmap_, dim = 1, index = (centerys * 256 + minxs).unsqueeze(-1)).squeeze(1)\n",
    "    \n",
    "    # vertical\n",
    "    vertical = torch.gather(heatmap_, dim = 1, index = (minys * 256 + centerxs).unsqueeze(-1)).squeeze(1)\n",
    "    \n",
    "    straight = isvertical * vertical + (~isvertical * horizontal)\n",
    "\n",
    "    topleft = (minyminx > minymaxx)\n",
    "    \n",
    "    isstraight = ((straight > minyminx) | ((straight > minymaxx)))\n",
    "\n",
    "    isvertical = isvertical * isstraight\n",
    "    topleft = topleft * ~isstraight\n",
    "    bottomleft = ~isstraight * ~topleft\n",
    "    ishorizontal = isstraight * ~isvertical\n",
    "    \n",
    "    \n",
    "    x0 = ((isvertical * centerxs) + (ishorizontal * minxs) + (topleft * minxs) + (bottomleft * maxxs)).unsqueeze(-1)\n",
    "    y0 = ((isvertical * minys) + (ishorizontal * centerys) + (topleft * minys) + (bottomleft * minys)).unsqueeze(-1)\n",
    "    \n",
    "    x1 = ((isvertical * centerxs) + (ishorizontal * maxxs) + (topleft * maxxs) + (bottomleft * minxs)).unsqueeze(-1)\n",
    "    y1 = ((isvertical * maxys) + (ishorizontal * centerys) + (topleft * maxys) + (bottomleft * maxys)).unsqueeze(-1)\n",
    "    \n",
    "    #print(x0.shape)\n",
    "    double[i, unique, 0, 0] = x0.float()\n",
    "    double[i, unique, 0, 1] = y0.float()\n",
    "    double[i, unique, 1, 0] = x1.float()\n",
    "    double[i, unique, 1, 1] = y1.float()\n",
    "    eucs = torch.cdist(pred_new.double[0,unique,0,0:2].unsqueeze(1).squeeze(3), double[i, unique, :, 0:2].squeeze(3))\n",
    "    change = eucs[:,0,0] > eucs[:,0,1]\n",
    "    double[i,change,0,0] = x1[change].float()\n",
    "    double[i,change,0,1] = y1[change].float()\n",
    "    double[i,change,1,0] = x0[change].float()\n",
    "    double[i,change,1,1] = y0[change].float()\n",
    "    #print(eucs)\n",
    "    #print(change)\n",
    "    #print(pred_new.double[0,:,0,0:2].unsqueeze(1).squeeze(3).shape) # first joint\n",
    "    #print(double[i, :, :, 0:2].squeeze(3).shape)\n",
    "    #print(torch.cdist(pred_new.double[0,:,0,0:2].unsqueeze(1).squeeze(3), double[i, :, :, 0:2].squeeze(3)))\n",
    "    "
   ]
  },
  {
   "cell_type": "markdown",
   "id": "86f06f0e-bafc-4fc0-afd8-cf2651756c89",
   "metadata": {},
   "source": [
    "# Adjust anchor loss"
   ]
  },
  {
   "cell_type": "code",
   "execution_count": 125,
   "id": "9f7dcf2d-615c-4661-88f4-8c59217d6717",
   "metadata": {},
   "outputs": [],
   "source": [
    "from utils.helper import load_config\n",
    "cfg = load_config(\"../../../configs/direct_loss_calc_anchors.yaml\")"
   ]
  },
  {
   "cell_type": "code",
   "execution_count": 126,
   "id": "5116686e-5ebc-461d-b8e7-b8b6dc5054cb",
   "metadata": {},
   "outputs": [],
   "source": [
    "import sys\n",
    "sys.path.append(\"..\")\n",
    "\n",
    "import torch.nn as nn\n",
    "import torch\n",
    "\n",
    "l2_loss = nn.MSELoss()\n",
    "\n",
    "l1_loss = nn.L1Loss()\n",
    "\n",
    "import torch\n",
    "\n",
    "device = torch.device('cuda:0')\n",
    "\n",
    "from utils.helper import load_anchor_points_doubles_only\n",
    "\n",
    "double = load_anchor_points_doubles_only(\"../../../\" + cfg['anchor_pts_path'], device, 1)\n",
    "\n"
   ]
  },
  {
   "cell_type": "code",
   "execution_count": 127,
   "id": "5be6315a-9575-4778-a346-5e2ca13d56d6",
   "metadata": {},
   "outputs": [],
   "source": [
    "size = 256"
   ]
  },
  {
   "cell_type": "code",
   "execution_count": 128,
   "id": "7af0bd83-3a9f-44a7-be57-085f86066ce7",
   "metadata": {},
   "outputs": [
    {
     "data": {
      "text/plain": [
       "torch.Size([1, 14, 2, 3, 1])"
      ]
     },
     "execution_count": 128,
     "metadata": {},
     "output_type": "execute_result"
    }
   ],
   "source": [
    "double.shape"
   ]
  },
  {
   "cell_type": "code",
   "execution_count": 129,
   "id": "42928755-3ce0-4b91-8c20-46e687d5bc8b",
   "metadata": {},
   "outputs": [],
   "source": [
    "loss = 0\n",
    "# normalize to range 0, 1\n",
    "double = double/size # core -- hip, thigh, shin, shoulder, arm, forearm -- head\n",
    "# batch_size, which part, which anchor\n",
    "\n",
    "# indices\n",
    "core = 0 \n",
    "left_hip = 1\n",
    "right_hip = 2\n",
    "left_thigh = 3\n",
    "right_thigh = 4\n",
    "left_shin = 5\n",
    "right_shin = 6\n",
    "left_shoulder = 7\n",
    "right_shoulder = 8\n",
    "left_arm = 9\n",
    "right_arm = 10\n",
    "left_forearm = 11\n",
    "right_forearm = 12\n",
    "head = 13\n",
    "\n",
    "pairs = ((head, core), (core, left_shoulder), (left_shoulder, left_arm), (left_arm, left_forearm), \n",
    "        (core, right_shoulder), (right_shoulder, right_arm), (right_arm, right_forearm),\n",
    "        (core, left_hip), (left_hip, left_thigh), (left_thigh, left_shin), \n",
    "        (core, right_hip), (right_hip, right_thigh), (right_thigh, right_shin))\n",
    "\n",
    "for pair in pairs:\n",
    "    # for each pair, find the connecting anchor (among 4 distance)\n",
    "    # head[0] - core[0], head[0] - core[1], head[1] - core[0], head[1] - core[0]\n",
    "    # head and core\n",
    "    indices1 = double[:, pair[0]] # shape [1, 2, 3, 1]\n",
    "    indices2 = double[:, pair[1]]\n",
    "    losses = torch.stack([l2_loss(indices1[:,0], indices2[:,0]), l2_loss(indices1[:,1], indices2[:,1]), l2_loss(indices1[:,1], indices2[:,0]), l2_loss(indices1[:,0], indices2[:,1])])\n",
    "\n",
    "    loss += torch.min(losses)\n"
   ]
  },
  {
   "cell_type": "code",
   "execution_count": 130,
   "id": "38ae648d-7d89-4149-aa78-bd5989ecb724",
   "metadata": {},
   "outputs": [
    {
     "data": {
      "text/plain": [
       "torch.Size([1, 28, 3])"
      ]
     },
     "execution_count": 130,
     "metadata": {},
     "output_type": "execute_result"
    }
   ],
   "source": [
    "threshold = nn.Threshold(1, 0)\n",
    "\n",
    "double = double.view(double.shape[0], -1, double.shape[3])\n",
    "\n",
    "# normalize to range -1  to 1\n",
    "double = (double / size) * 2 - 1\n",
    "double.shape\n"
   ]
  },
  {
   "cell_type": "code",
   "execution_count": 135,
   "id": "3032353c-0e3f-46e9-af33-9ee772beb7d3",
   "metadata": {},
   "outputs": [
    {
     "data": {
      "text/plain": [
       "torch.Size([1, 56, 3])"
      ]
     },
     "execution_count": 135,
     "metadata": {},
     "output_type": "execute_result"
    }
   ],
   "source": [
    "comb = torch.cat([double, double], dim=1)\n",
    "comb.shape"
   ]
  },
  {
   "cell_type": "code",
   "execution_count": 133,
   "id": "3b2e4245-5c98-480b-b79a-bb301c6cb936",
   "metadata": {},
   "outputs": [
    {
     "data": {
      "text/plain": [
       "tensor([[0., 0., 0.]], device='cuda:0')"
      ]
     },
     "execution_count": 133,
     "metadata": {},
     "output_type": "execute_result"
    }
   ],
   "source": [
    "threshold(torch.abs(double)).sum(1)"
   ]
  },
  {
   "cell_type": "code",
   "execution_count": null,
   "id": "958fd192-6585-4813-9899-4be0ac665920",
   "metadata": {},
   "outputs": [],
   "source": []
  }
 ],
 "metadata": {
  "kernelspec": {
   "display_name": "poseestimation [~/.conda/envs/poseestimation/]",
   "language": "python",
   "name": "conda_poseestimation"
  },
  "language_info": {
   "codemirror_mode": {
    "name": "ipython",
    "version": 3
   },
   "file_extension": ".py",
   "mimetype": "text/x-python",
   "name": "python",
   "nbconvert_exporter": "python",
   "pygments_lexer": "ipython3",
   "version": "3.7.16"
  }
 },
 "nbformat": 4,
 "nbformat_minor": 5
}
