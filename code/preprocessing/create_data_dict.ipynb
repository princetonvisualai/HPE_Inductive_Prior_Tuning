{
 "cells": [
  {
   "cell_type": "code",
   "execution_count": 1,
   "metadata": {},
   "outputs": [],
   "source": [
    "from azure.storage.blob import BlobClient\n",
    "import tarfile\n",
    "import os\n",
    "import numpy as np\n",
    "import torch\n",
    "import matplotlib.pyplot as plt\n",
    "import torchvision.transforms.functional as F\n",
    "from torchvision.io import read_video # extract frames\n",
    "import h5py\n",
    "from torchvision.utils import save_image\n",
    "import torchvision.transforms as T\n",
    "import cv2\n",
    "import json\n",
    "\n",
    "compute_data_folder = \"../../data/\"\n",
    "\n",
    "# get frames from video path\n",
    "def get_frames(video_path):\n",
    "    frames, _, _ = read_video(video_path, output_format=\"TCHW\", pts_unit=\"sec\")\n",
    "    return frames\n",
    "\n",
    "# get list of all subjects\n",
    "def get_subjects():\n",
    "    video_folders = os.listdir(compute_data_folder)[3:]\n",
    "    return video_folders\n",
    "\n",
    "def get_video_paths(subject):\n",
    "    video_paths = os.listdir(compute_data_folder + subject + \"/videos/\")[2:]\n",
    "    return video_paths"
   ]
  },
  {
   "cell_type": "code",
   "execution_count": 2,
   "metadata": {},
   "outputs": [],
   "source": [
    "# process bounding boxes of one video\n",
    "def get_masks_of_video(bbox_path):\n",
    "    with h5py.File(bbox_path, 'r') as f:\n",
    "        masks = np.array(f.get(\"Masks\"))\n",
    "        refs = np.array(f.get(\"#refs#\"))\n",
    "        \n",
    "        return masks[:,0]\n",
    "        \n",
    "        #print(refs)\n",
    "        \"\"\" thismask = masks[:,0][0]\n",
    "        frame = np.array(f[thismask])\n",
    "        print(frame.shape)\"\"\"\n",
    "        #np.savetxt(\"mask_example.csv\", frame, delimiter = \",\")\n",
    "\n",
    "        # for each frame\n",
    "        \"\"\"for mask in masks[:,0]:\n",
    "            frame = np.array(f[mask])\n",
    "            print(frame)\"\"\"\n",
    "        #print()\n",
    "        #print(refs.shape)\n",
    "        \n",
    "def get_masked_frame(bbox_path, mask):\n",
    "    with h5py.File(bbox_path, 'r') as f:\n",
    "        return np.array(f[mask])"
   ]
  },
  {
   "cell_type": "code",
   "execution_count": 8,
   "metadata": {
    "gather": {
     "logged": 1673494129506
    }
   },
   "outputs": [
    {
     "name": "stdout",
     "output_type": "stream",
     "text": [
      "Processing subject S1\n"
     ]
    },
    {
     "ename": "KeyboardInterrupt",
     "evalue": "Interrupted by user",
     "output_type": "error",
     "traceback": [
      "\u001b[0;31m---------------------------------------------------------------------------\u001b[0m",
      "\u001b[0;31mKeyboardInterrupt\u001b[0m                         Traceback (most recent call last)",
      "\u001b[0;32m/tmp/ipykernel_279149/1019787726.py\u001b[0m in \u001b[0;36m<module>\u001b[0;34m\u001b[0m\n\u001b[1;32m     49\u001b[0m             data_dict[subject][activity].append({\"frame\": save_prefix_vid + (\"frame%04d.png\" % k),\n\u001b[1;32m     50\u001b[0m                                                 \"bounding_box\": coords})\n\u001b[0;32m---> 51\u001b[0;31m             \u001b[0minput\u001b[0m\u001b[0;34m(\u001b[0m\u001b[0;34m)\u001b[0m\u001b[0;34m\u001b[0m\u001b[0;34m\u001b[0m\u001b[0m\n\u001b[0m",
      "\u001b[0;32m/anaconda/envs/poseestimation/lib/python3.7/site-packages/ipykernel/kernelbase.py\u001b[0m in \u001b[0;36mraw_input\u001b[0;34m(self, prompt)\u001b[0m\n\u001b[1;32m   1179\u001b[0m             \u001b[0mself\u001b[0m\u001b[0;34m.\u001b[0m\u001b[0m_parent_ident\u001b[0m\u001b[0;34m[\u001b[0m\u001b[0;34m\"shell\"\u001b[0m\u001b[0;34m]\u001b[0m\u001b[0;34m,\u001b[0m\u001b[0;34m\u001b[0m\u001b[0;34m\u001b[0m\u001b[0m\n\u001b[1;32m   1180\u001b[0m             \u001b[0mself\u001b[0m\u001b[0;34m.\u001b[0m\u001b[0mget_parent\u001b[0m\u001b[0;34m(\u001b[0m\u001b[0;34m\"shell\"\u001b[0m\u001b[0;34m)\u001b[0m\u001b[0;34m,\u001b[0m\u001b[0;34m\u001b[0m\u001b[0;34m\u001b[0m\u001b[0m\n\u001b[0;32m-> 1181\u001b[0;31m             \u001b[0mpassword\u001b[0m\u001b[0;34m=\u001b[0m\u001b[0;32mFalse\u001b[0m\u001b[0;34m,\u001b[0m\u001b[0;34m\u001b[0m\u001b[0;34m\u001b[0m\u001b[0m\n\u001b[0m\u001b[1;32m   1182\u001b[0m         )\n\u001b[1;32m   1183\u001b[0m \u001b[0;34m\u001b[0m\u001b[0m\n",
      "\u001b[0;32m/anaconda/envs/poseestimation/lib/python3.7/site-packages/ipykernel/kernelbase.py\u001b[0m in \u001b[0;36m_input_request\u001b[0;34m(self, prompt, ident, parent, password)\u001b[0m\n\u001b[1;32m   1217\u001b[0m             \u001b[0;32mexcept\u001b[0m \u001b[0mKeyboardInterrupt\u001b[0m\u001b[0;34m:\u001b[0m\u001b[0;34m\u001b[0m\u001b[0;34m\u001b[0m\u001b[0m\n\u001b[1;32m   1218\u001b[0m                 \u001b[0;31m# re-raise KeyboardInterrupt, to truncate traceback\u001b[0m\u001b[0;34m\u001b[0m\u001b[0;34m\u001b[0m\u001b[0;34m\u001b[0m\u001b[0m\n\u001b[0;32m-> 1219\u001b[0;31m                 \u001b[0;32mraise\u001b[0m \u001b[0mKeyboardInterrupt\u001b[0m\u001b[0;34m(\u001b[0m\u001b[0;34m\"Interrupted by user\"\u001b[0m\u001b[0;34m)\u001b[0m \u001b[0;32mfrom\u001b[0m \u001b[0;32mNone\u001b[0m\u001b[0;34m\u001b[0m\u001b[0;34m\u001b[0m\u001b[0m\n\u001b[0m\u001b[1;32m   1220\u001b[0m             \u001b[0;32mexcept\u001b[0m \u001b[0mException\u001b[0m\u001b[0;34m:\u001b[0m\u001b[0;34m\u001b[0m\u001b[0;34m\u001b[0m\u001b[0m\n\u001b[1;32m   1221\u001b[0m                 \u001b[0mself\u001b[0m\u001b[0;34m.\u001b[0m\u001b[0mlog\u001b[0m\u001b[0;34m.\u001b[0m\u001b[0mwarning\u001b[0m\u001b[0;34m(\u001b[0m\u001b[0;34m\"Invalid Message:\"\u001b[0m\u001b[0;34m,\u001b[0m \u001b[0mexc_info\u001b[0m\u001b[0;34m=\u001b[0m\u001b[0;32mTrue\u001b[0m\u001b[0;34m)\u001b[0m\u001b[0;34m\u001b[0m\u001b[0;34m\u001b[0m\u001b[0m\n",
      "\u001b[0;31mKeyboardInterrupt\u001b[0m: Interrupted by user"
     ]
    }
   ],
   "source": [
    "subjects = get_subjects()\n",
    "\n",
    "data_dict = {}\n",
    "\n",
    "# for each subject\n",
    "for subject in subjects:\n",
    "    #### UPDATE DICT\n",
    "    data_dict[subject] = {}\n",
    "    \n",
    "    video_paths = get_video_paths(subject)\n",
    "    bbox_paths = [(i[:-4] + \".mat\") for i in video_paths]\n",
    "\n",
    "    bbox_prefix = compute_data_folder + subject + \"/bboxes/\"\n",
    "    frame_prefix = \"../data/\" + \"h36m/training/\" + subject + \"/frames/\"\n",
    "    \n",
    "    f = open(\"create_data_dict_log.txt\", \"a\")\n",
    "    f.write(\"Processing subject \" + subject + \"\\n\")\n",
    "    f.close()\n",
    "    #print(\"Processing subject \" + subject)\n",
    "    \n",
    "    # for each video (activity)\n",
    "    for j in range(len(bbox_paths)):\n",
    "        bbox_path = bbox_prefix + bbox_paths[j]\n",
    "        masks = get_masks_of_video(bbox_path)\n",
    "\n",
    "        activity = video_paths[j][:-4]\n",
    "        \n",
    "        #### UPDATE DICT\n",
    "        data_dict[subject][activity] = []\n",
    "        \n",
    "        save_prefix_vid = frame_prefix + activity + \"/\"\n",
    "        \n",
    "        # for each mask\n",
    "        for k in range(len(masks)):\n",
    "            mask = masks[k]\n",
    "            masked_frame = get_masked_frame(bbox_path, mask).T\n",
    "            \n",
    "            bbox = np.where(masked_frame == 1)\n",
    "            coords = np.array([[bbox[1][0], bbox[0][0]],\n",
    "                      [bbox[1][-1], bbox[0][-1]]])\n",
    "            \n",
    "            coords = {\"__ndarray__\": [[int(bbox[1][0]), int(bbox[0][0])],\n",
    "                                      [int(bbox[1][-1]), int(bbox[0][-1])]],\n",
    "                     \"dtype\": \"int64\",\n",
    "                     \"shape\": [2, 2],\n",
    "                     \"Corder\": True}\n",
    "            \n",
    "            #### UPDATE DICT\n",
    "            data_dict[subject][activity].append({\"frame\": save_prefix_vid + (\"frame%04d.png\" % k),\n",
    "                                                \"bounding_box\": coords})"
   ]
  },
  {
   "cell_type": "code",
   "execution_count": 10,
   "metadata": {},
   "outputs": [],
   "source": [
    "with open(\"data_dict.json\", \"w\") as f:\n",
    "    json.dump(data_dict, f)"
   ]
  },
  {
   "cell_type": "code",
   "execution_count": null,
   "metadata": {},
   "outputs": [],
   "source": []
  }
 ],
 "metadata": {
  "kernel_info": {
   "name": "poseestimation"
  },
  "kernelspec": {
   "display_name": "Python (poseestimation)",
   "language": "python",
   "name": "poseestimation"
  },
  "language_info": {
   "codemirror_mode": {
    "name": "ipython",
    "version": 3
   },
   "file_extension": ".py",
   "mimetype": "text/x-python",
   "name": "python",
   "nbconvert_exporter": "python",
   "pygments_lexer": "ipython3",
   "version": "3.7.15"
  },
  "nteract": {
   "version": "nteract-front-end@1.0.0"
  }
 },
 "nbformat": 4,
 "nbformat_minor": 2
}
